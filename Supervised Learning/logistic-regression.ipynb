{
 "cells": [
  {
   "cell_type": "markdown",
   "metadata": {},
   "source": [
    "## Logistic Regression"
   ]
  },
  {
   "cell_type": "code",
   "execution_count": 39,
   "metadata": {},
   "outputs": [],
   "source": [
    "# load libraries\n",
    "import numpy as np\n",
    "import matplotlib.pyplot as plt\n",
    "import seaborn as sns\n",
    "import pandas as pd"
   ]
  },
  {
   "cell_type": "code",
   "execution_count": 40,
   "metadata": {},
   "outputs": [
    {
     "data": {
      "image/png": "[encoded data removed]",
      "text/plain": [
       "<Figure size 432x288 with 1 Axes>"
      ]
     },
     "metadata": {
      "needs_background": "light"
     },
     "output_type": "display_data"
    }
   ],
   "source": [
    "# takes advantage of the sigmoid curve\n",
    "def sigmoid_function(x):\n",
    "    \"\"\"Give a sigmoid probability.\n",
    "\n",
    "    Args:\n",
    "        x (array of floats): _array of floats to find sigmoid probability for_.\n",
    "\n",
    "    Returns:\n",
    "        float (array of floats): _produces an array of sigmoid probabilities_.\n",
    "    \"\"\"\n",
    "    return 1/(1/1+np.exp(-x))\n",
    "\n",
    "x = np.arange(-7, 7, 0.01)\n",
    "plt.figure()\n",
    "plt.plot(x, sigmoid_function(x))\n",
    "plt.grid()\n",
    "plt.xlim(-7, 7)\n",
    "plt.show()"
   ]
  },
  {
   "cell_type": "markdown",
   "metadata": {},
   "source": [
    "Linear function: \n",
    "$$ f(X) = \\beta_0 + \\beta_1 x_1 +\n",
    "\\beta_2 x_2 + \\cdots + \\beta_d x_d $$\n",
    "\n",
    "Sigmoid cureve:\n",
    "$$ s(X) = \\frac{1}{1+e^{-f(X)}} $$\n",
    "\n",
    "Feed the linear function into the sigmoid function:\n",
    "$$ s(X) = \\frac{1}{1+e^{-(\\beta_0 +\n",
    "\\beta_1 x_1 + \\beta_2 x_2 + \\cdots + \\beta_d x_d)}} $$\n"
   ]
  },
  {
   "cell_type": "markdown",
   "metadata": {},
   "source": [
    "model is smooth (ability to interpret s(X) as the probability of X belonging to a class. 0 or 1) and bound between 0 and 1 (easy to solve for the gradient)\n",
    "\n",
    "- Soft predictions: probability of belonging to a class\n",
    "- Hard predictions: decision of belonging to a class (0 or 1)"
   ]
  },
  {
   "cell_type": "code",
   "execution_count": 41,
   "metadata": {},
   "outputs": [
    {
     "data": {
      "text/html": [
       "<div>\n",
       "<style scoped>\n",
       "    .dataframe tbody tr th:only-of-type {\n",
       "        vertical-align: middle;\n",
       "    }\n",
       "\n",
       "    .dataframe tbody tr th {\n",
       "        vertical-align: top;\n",
       "    }\n",
       "\n",
       "    .dataframe thead th {\n",
       "        text-align: right;\n",
       "    }\n",
       "</style>\n",
       "<table border=\"1\" class=\"dataframe\">\n",
       "  <thead>\n",
       "    <tr style=\"text-align: right;\">\n",
       "      <th></th>\n",
       "      <th>hours researching</th>\n",
       "      <th>hired</th>\n",
       "    </tr>\n",
       "  </thead>\n",
       "  <tbody>\n",
       "    <tr>\n",
       "      <th>0</th>\n",
       "      <td>0.00</td>\n",
       "      <td>1.0</td>\n",
       "    </tr>\n",
       "    <tr>\n",
       "      <th>1</th>\n",
       "      <td>0.25</td>\n",
       "      <td>0.0</td>\n",
       "    </tr>\n",
       "    <tr>\n",
       "      <th>2</th>\n",
       "      <td>0.50</td>\n",
       "      <td>1.0</td>\n",
       "    </tr>\n",
       "    <tr>\n",
       "      <th>3</th>\n",
       "      <td>0.75</td>\n",
       "      <td>0.0</td>\n",
       "    </tr>\n",
       "    <tr>\n",
       "      <th>4</th>\n",
       "      <td>1.00</td>\n",
       "      <td>1.0</td>\n",
       "    </tr>\n",
       "  </tbody>\n",
       "</table>\n",
       "</div>"
      ],
      "text/plain": [
       "   hours researching  hired\n",
       "0               0.00    1.0\n",
       "1               0.25    0.0\n",
       "2               0.50    1.0\n",
       "3               0.75    0.0\n",
       "4               1.00    1.0"
      ]
     },
     "execution_count": 41,
     "metadata": {},
     "output_type": "execute_result"
    }
   ],
   "source": [
    "## Predicting whether a person will get hired based on hours spent prepping for the interview\n",
    "# import random\n",
    "\n",
    "# classes = list(np.zeros(20))\n",
    "# classes.extend(list(np.ones(20)))\n",
    "# random.shuffle(classes)\n",
    "\n",
    "\n",
    "# hrs = pd.DataFrame({\n",
    "#     'hours researching': list(np.arange(0, 10, 0.25)),\n",
    "#     'hired': classes\n",
    "# })\n",
    "\n",
    "# hrs.head()"
   ]
  },
  {
   "cell_type": "code",
   "execution_count": 42,
   "metadata": {},
   "outputs": [
    {
     "data": {
      "text/html": [
       "<div>\n",
       "<style scoped>\n",
       "    .dataframe tbody tr th:only-of-type {\n",
       "        vertical-align: middle;\n",
       "    }\n",
       "\n",
       "    .dataframe tbody tr th {\n",
       "        vertical-align: top;\n",
       "    }\n",
       "\n",
       "    .dataframe thead th {\n",
       "        text-align: right;\n",
       "    }\n",
       "</style>\n",
       "<table border=\"1\" class=\"dataframe\">\n",
       "  <thead>\n",
       "    <tr style=\"text-align: right;\">\n",
       "      <th></th>\n",
       "      <th>hours researching</th>\n",
       "      <th>hired</th>\n",
       "    </tr>\n",
       "  </thead>\n",
       "  <tbody>\n",
       "    <tr>\n",
       "      <th>0</th>\n",
       "      <td>0.00</td>\n",
       "      <td>0</td>\n",
       "    </tr>\n",
       "    <tr>\n",
       "      <th>1</th>\n",
       "      <td>0.00</td>\n",
       "      <td>0</td>\n",
       "    </tr>\n",
       "    <tr>\n",
       "      <th>2</th>\n",
       "      <td>0.50</td>\n",
       "      <td>0</td>\n",
       "    </tr>\n",
       "    <tr>\n",
       "      <th>3</th>\n",
       "      <td>0.75</td>\n",
       "      <td>0</td>\n",
       "    </tr>\n",
       "    <tr>\n",
       "      <th>4</th>\n",
       "      <td>1.00</td>\n",
       "      <td>0</td>\n",
       "    </tr>\n",
       "    <tr>\n",
       "      <th>5</th>\n",
       "      <td>1.00</td>\n",
       "      <td>0</td>\n",
       "    </tr>\n",
       "    <tr>\n",
       "      <th>6</th>\n",
       "      <td>1.25</td>\n",
       "      <td>1</td>\n",
       "    </tr>\n",
       "    <tr>\n",
       "      <th>7</th>\n",
       "      <td>1.25</td>\n",
       "      <td>0</td>\n",
       "    </tr>\n",
       "    <tr>\n",
       "      <th>8</th>\n",
       "      <td>1.50</td>\n",
       "      <td>0</td>\n",
       "    </tr>\n",
       "    <tr>\n",
       "      <th>9</th>\n",
       "      <td>1.50</td>\n",
       "      <td>0</td>\n",
       "    </tr>\n",
       "  </tbody>\n",
       "</table>\n",
       "</div>"
      ],
      "text/plain": [
       "   hours researching  hired\n",
       "0               0.00      0\n",
       "1               0.00      0\n",
       "2               0.50      0\n",
       "3               0.75      0\n",
       "4               1.00      0\n",
       "5               1.00      0\n",
       "6               1.25      1\n",
       "7               1.25      0\n",
       "8               1.50      0\n",
       "9               1.50      0"
      ]
     },
     "execution_count": 42,
     "metadata": {},
     "output_type": "execute_result"
    }
   ],
   "source": [
    "hrs = pd.DataFrame(\n",
    "    {\n",
    "        \"hours researching\": [\n",
    "            0,\n",
    "            0,\n",
    "            0.5,\n",
    "            0.75,\n",
    "            1.0,\n",
    "            1.0,\n",
    "            1.25,\n",
    "            1.25,\n",
    "            1.5,\n",
    "            1.5,\n",
    "            1.75,\n",
    "            1.75,\n",
    "            1.9,\n",
    "            2.0,\n",
    "            2.0,\n",
    "            2.0,\n",
    "            2.0,\n",
    "            2.25,\n",
    "            2.25,\n",
    "            2.25,\n",
    "            2.5,\n",
    "            2.5,\n",
    "            2.75,\n",
    "            3.0,\n",
    "            3.0,\n",
    "        ],\n",
    "        \"hired\": [0, 0, 0, 0, 0, 0, 1, 0, 0, 0, 1, 0, 0, 0, 0, 1, 1, 0, 1, 1, 0, 1, 1, 1, 1],\n",
    "    }\n",
    ")\n",
    "\n",
    "hrs.head(10)\n"
   ]
  },
  {
   "cell_type": "code",
   "execution_count": 43,
   "metadata": {},
   "outputs": [
    {
     "data": {
      "image/png": "[encoded data removed]",
      "text/plain": [
       "<Figure size 432x288 with 1 Axes>"
      ]
     },
     "metadata": {
      "needs_background": "light"
     },
     "output_type": "display_data"
    }
   ],
   "source": [
    "plt.figure()\n",
    "plt.scatter(hrs['hours researching'], hrs['hired'])\n",
    "plt.xlabel('Hours spent prepping')\n",
    "plt.ylabel('Hired?')\n",
    "plt.show()"
   ]
  },
  {
   "cell_type": "code",
   "execution_count": 44,
   "metadata": {},
   "outputs": [],
   "source": [
    "import statsmodels.api as sm\n",
    "X = hrs['hours researching']        # independent variable\n",
    "y = hrs['hired']                    # dependent variable\n",
    "\n",
    "X_add_constant = sm.add_constant(X) # manually add intercept to the model\n",
    "## for the sm api we have to add this, otherwise we will only get beta1"
   ]
  },
  {
   "cell_type": "code",
   "execution_count": 45,
   "metadata": {},
   "outputs": [
    {
     "name": "stdout",
     "output_type": "stream",
     "text": [
      "Optimization terminated successfully.\n",
      "         Current function value: 0.467125\n",
      "         Iterations 7\n"
     ]
    },
    {
     "data": {
      "text/html": [
       "<table class=\"simpletable\">\n",
       "<caption>Logit Regression Results</caption>\n",
       "<tr>\n",
       "  <th>Dep. Variable:</th>         <td>hired</td>      <th>  No. Observations:  </th>  <td>    25</td> \n",
       "</tr>\n",
       "<tr>\n",
       "  <th>Model:</th>                 <td>Logit</td>      <th>  Df Residuals:      </th>  <td>    23</td> \n",
       "</tr>\n",
       "<tr>\n",
       "  <th>Method:</th>                 <td>MLE</td>       <th>  Df Model:          </th>  <td>     1</td> \n",
       "</tr>\n",
       "<tr>\n",
       "  <th>Date:</th>            <td>Sun, 04 Sep 2022</td> <th>  Pseudo R-squ.:     </th>  <td>0.3059</td> \n",
       "</tr>\n",
       "<tr>\n",
       "  <th>Time:</th>                <td>09:06:17</td>     <th>  Log-Likelihood:    </th> <td> -11.678</td>\n",
       "</tr>\n",
       "<tr>\n",
       "  <th>converged:</th>             <td>True</td>       <th>  LL-Null:           </th> <td> -16.825</td>\n",
       "</tr>\n",
       "<tr>\n",
       "  <th>Covariance Type:</th>     <td>nonrobust</td>    <th>  LLR p-value:       </th> <td>0.001334</td>\n",
       "</tr>\n",
       "</table>\n",
       "<table class=\"simpletable\">\n",
       "<tr>\n",
       "          <td></td>             <th>coef</th>     <th>std err</th>      <th>z</th>      <th>P>|z|</th>  <th>[0.025</th>    <th>0.975]</th>  \n",
       "</tr>\n",
       "<tr>\n",
       "  <th>const</th>             <td>   -4.8223</td> <td>    2.077</td> <td>   -2.322</td> <td> 0.020</td> <td>   -8.893</td> <td>   -0.752</td>\n",
       "</tr>\n",
       "<tr>\n",
       "  <th>hours researching</th> <td>    2.3694</td> <td>    1.023</td> <td>    2.316</td> <td> 0.021</td> <td>    0.364</td> <td>    4.375</td>\n",
       "</tr>\n",
       "</table>"
      ],
      "text/plain": [
       "<class 'statsmodels.iolib.summary.Summary'>\n",
       "\"\"\"\n",
       "                           Logit Regression Results                           \n",
       "==============================================================================\n",
       "Dep. Variable:                  hired   No. Observations:                   25\n",
       "Model:                          Logit   Df Residuals:                       23\n",
       "Method:                           MLE   Df Model:                            1\n",
       "Date:                Sun, 04 Sep 2022   Pseudo R-squ.:                  0.3059\n",
       "Time:                        09:06:17   Log-Likelihood:                -11.678\n",
       "converged:                       True   LL-Null:                       -16.825\n",
       "Covariance Type:            nonrobust   LLR p-value:                  0.001334\n",
       "=====================================================================================\n",
       "                        coef    std err          z      P>|z|      [0.025      0.975]\n",
       "-------------------------------------------------------------------------------------\n",
       "const                -4.8223      2.077     -2.322      0.020      -8.893      -0.752\n",
       "hours researching     2.3694      1.023      2.316      0.021       0.364       4.375\n",
       "=====================================================================================\n",
       "\"\"\""
      ]
     },
     "execution_count": 45,
     "metadata": {},
     "output_type": "execute_result"
    }
   ],
   "source": [
    "log_reg = sm.Logit(y, X_add_constant)        # instatiate logistic regression\n",
    "log_reg_result = log_reg.fit()  # fit model\n",
    "log_reg_result.summary()"
   ]
  },
  {
   "cell_type": "markdown",
   "metadata": {},
   "source": [
    "$$ s(X) = P(y | X) = \\frac{1}{1+e^{-(-0.2940x + 0.0603x)}}$$"
   ]
  },
  {
   "cell_type": "markdown",
   "metadata": {},
   "source": [
    "the values obtained control how stretched the sigmoid curve will be. they are the log odds"
   ]
  },
  {
   "cell_type": "code",
   "execution_count": 46,
   "metadata": {},
   "outputs": [
    {
     "data": {
      "text/plain": [
       "const               -4.822299\n",
       "hours researching    2.369391\n",
       "dtype: float64"
      ]
     },
     "execution_count": 46,
     "metadata": {},
     "output_type": "execute_result"
    }
   ],
   "source": [
    "log_reg_result.params"
   ]
  },
  {
   "cell_type": "code",
   "execution_count": 47,
   "metadata": {},
   "outputs": [
    {
     "name": "stdout",
     "output_type": "stream",
     "text": [
      "beta0 [log odds]: -4.822299267254163\n",
      "beta1 [logg odds] :2.3693913228488817\n"
     ]
    }
   ],
   "source": [
    "beta0 = log_reg_result.params[0]\n",
    "beta1 = log_reg_result.params[1]\n",
    "print(f\"beta0 [log odds]: {beta0}\")\n",
    "print(f\"beta1 [logg odds] :{beta1}\")"
   ]
  },
  {
   "cell_type": "code",
   "execution_count": 54,
   "metadata": {},
   "outputs": [
    {
     "name": "stdout",
     "output_type": "stream",
     "text": [
      "beta0 [odds ratio]: 0.00804826074631037\n",
      "beta1 [odds ratio] :10.690883007076232\n"
     ]
    }
   ],
   "source": [
    "print(f\"beta0 [odds ratio]: {np.exp(beta0)}\")\n",
    "print(f\"beta1 [odds ratio] :{np.exp(beta1)}\")"
   ]
  },
  {
   "cell_type": "markdown",
   "metadata": {},
   "source": [
    "- the odds of getting hired if a person has studied/prepped for the interview is 0.008.\n",
    "- for every one unit increase in hours prepped, the odds of getting hired increase by 10.69\n"
   ]
  },
  {
   "cell_type": "code",
   "execution_count": 55,
   "metadata": {},
   "outputs": [
    {
     "name": "stdout",
     "output_type": "stream",
     "text": [
      "After 0 hours of prepping the\n",
      "Probability of being hired is: 0.00800223481421624\n",
      "Odds ratio is 0.008066787139099614\n",
      "\n",
      "\n",
      "After 1 hours of prepping the\n",
      "Probability of being hired is: 0.07936545186589644\n",
      "Odds ratio is 0.08620733604528572\n",
      "\n",
      "\n",
      "After 2 hours of prepping the\n",
      "Probability of being hired is: 0.4795114791148384\n",
      "Odds ratio is 0.9212719586963489\n",
      "\n",
      "\n",
      "After 3 hours of prepping the\n",
      "Probability of being hired is: 0.9077946465073078\n",
      "Odds ratio is 9.845357260945327\n",
      "\n",
      "\n",
      "After 4 hours of prepping the\n",
      "Probability of being hired is: 0.9905850791282914\n",
      "Odds ratio is 105.21438179103076\n",
      "\n",
      "\n",
      "After 5 hours of prepping the\n",
      "Probability of being hired is: 0.9991114227521378\n",
      "Odds ratio is 1124.3945590053029\n",
      "\n",
      "\n",
      "After 6 hours of prepping the\n",
      "Probability of being hired is: 0.9999167850233429\n",
      "Odds ratio is 12016.067602155472\n",
      "\n",
      "\n",
      "After 7 hours of prepping the\n",
      "Probability of being hired is: 0.9999922126332706\n",
      "Odds ratio is 128412.1125135047\n",
      "\n",
      "\n",
      "After 8 hours of prepping the\n",
      "Probability of being hired is: 0.999999271297826\n",
      "Odds ratio is 1372301.7536022607\n",
      "\n",
      "\n",
      "After 9 hours of prepping the\n",
      "Probability of being hired is: 0.9999999318121928\n",
      "Odds ratio is 14665377.480103038\n",
      "\n",
      "\n"
     ]
    }
   ],
   "source": [
    "# check if this is true\n",
    "hours_prepped = [i for i in range(10)]\n",
    "for hours in hours_prepped:\n",
    "    linear_combination = -4.82 + 2.369 * hours #plug in regression results\n",
    "    prob_hired = sigmoid_function(linear_combination) #find prob of getting hired for each i\n",
    "    prop_not_hired = 1 - prob_hired\n",
    "\n",
    "    odds_ratio = prob_hired/prop_not_hired\n",
    "\n",
    "    print(f\"After {hours} hours of prepping the\")\n",
    "    print(f\"Probability of being hired is: {prob_hired}\")\n",
    "    print(f\"Odds ratio is {odds_ratio}\")\n",
    "    print(\"\\n\")\n"
   ]
  },
  {
   "cell_type": "code",
   "execution_count": 56,
   "metadata": {},
   "outputs": [
    {
     "data": {
      "image/png": "[encoded data removed]",
      "text/plain": [
       "<Figure size 432x288 with 1 Axes>"
      ]
     },
     "metadata": {
      "needs_background": "light"
     },
     "output_type": "display_data"
    }
   ],
   "source": [
    "x_points = np.arange(-7, 7, 0.1)\n",
    "plt.figure()\n",
    "plt.scatter(hrs['hours researching'], hrs['hired'])\n",
    "plt.plot(x_points, sigmoid_function(beta0 + beta1*x_points))\n",
    "plt.grid()\n",
    "plt.xlim(-1, 5)\n",
    "plt.xlabel('Hours spent prepping')\n",
    "plt.ylabel('Probability of getting hired')\n",
    "plt.show()"
   ]
  },
  {
   "cell_type": "markdown",
   "metadata": {},
   "source": [
    "1. After four hours we are almost certain to get hired, but the propability is never 100%\n",
    "2. Making assumptions about the data beyond the range of its input. "
   ]
  },
  {
   "cell_type": "code",
   "execution_count": 57,
   "metadata": {},
   "outputs": [
    {
     "name": "stdout",
     "output_type": "stream",
     "text": [
      "[0.01611939 0.18165847 0.82850337 0.99929851]\n"
     ]
    }
   ],
   "source": [
    "new_X = np.array([0.3, 1.4, 2.7, 5.1])\n",
    "prob_hired = sigmoid_function(beta0 + beta1*new_X)\n",
    "print(prob_hired)"
   ]
  },
  {
   "cell_type": "code",
   "execution_count": 58,
   "metadata": {},
   "outputs": [
    {
     "data": {
      "text/plain": [
       "array([0.01611939, 0.18165847, 0.82850337, 0.99929851])"
      ]
     },
     "execution_count": 58,
     "metadata": {},
     "output_type": "execute_result"
    }
   ],
   "source": [
    "new_X_add_constant = sm.add_constant(new_X)\n",
    "log_reg_result.predict(new_X_add_constant)"
   ]
  },
  {
   "cell_type": "code",
   "execution_count": 59,
   "metadata": {},
   "outputs": [
    {
     "data": {
      "text/html": [
       "<div>\n",
       "<style scoped>\n",
       "    .dataframe tbody tr th:only-of-type {\n",
       "        vertical-align: middle;\n",
       "    }\n",
       "\n",
       "    .dataframe tbody tr th {\n",
       "        vertical-align: top;\n",
       "    }\n",
       "\n",
       "    .dataframe thead th {\n",
       "        text-align: right;\n",
       "    }\n",
       "</style>\n",
       "<table border=\"1\" class=\"dataframe\">\n",
       "  <thead>\n",
       "    <tr style=\"text-align: right;\">\n",
       "      <th></th>\n",
       "      <th>Hours</th>\n",
       "      <th>Prob_Hired</th>\n",
       "    </tr>\n",
       "  </thead>\n",
       "  <tbody>\n",
       "    <tr>\n",
       "      <th>Jane</th>\n",
       "      <td>0.3</td>\n",
       "      <td>0.016</td>\n",
       "    </tr>\n",
       "    <tr>\n",
       "      <th>Kevin</th>\n",
       "      <td>1.4</td>\n",
       "      <td>0.182</td>\n",
       "    </tr>\n",
       "    <tr>\n",
       "      <th>Bob</th>\n",
       "      <td>2.7</td>\n",
       "      <td>0.829</td>\n",
       "    </tr>\n",
       "    <tr>\n",
       "      <th>Samantha</th>\n",
       "      <td>5.1</td>\n",
       "      <td>0.999</td>\n",
       "    </tr>\n",
       "  </tbody>\n",
       "</table>\n",
       "</div>"
      ],
      "text/plain": [
       "          Hours  Prob_Hired\n",
       "Jane        0.3       0.016\n",
       "Kevin       1.4       0.182\n",
       "Bob         2.7       0.829\n",
       "Samantha    5.1       0.999"
      ]
     },
     "execution_count": 59,
     "metadata": {},
     "output_type": "execute_result"
    }
   ],
   "source": [
    "new_candidates = pd.DataFrame(\n",
    "    {\"Hours\": new_X, \"Prob_Hired\": prob_hired.round(3)}, index=[\"Jane\", \"Kevin\", \"Bob\", \"Samantha\"]\n",
    ")\n",
    "new_candidates      # soft decision (just based on probabilities)"
   ]
  },
  {
   "cell_type": "code",
   "execution_count": 60,
   "metadata": {},
   "outputs": [
    {
     "data": {
      "text/html": [
       "<div>\n",
       "<style scoped>\n",
       "    .dataframe tbody tr th:only-of-type {\n",
       "        vertical-align: middle;\n",
       "    }\n",
       "\n",
       "    .dataframe tbody tr th {\n",
       "        vertical-align: top;\n",
       "    }\n",
       "\n",
       "    .dataframe thead th {\n",
       "        text-align: right;\n",
       "    }\n",
       "</style>\n",
       "<table border=\"1\" class=\"dataframe\">\n",
       "  <thead>\n",
       "    <tr style=\"text-align: right;\">\n",
       "      <th></th>\n",
       "      <th>Hours</th>\n",
       "      <th>Prob_Hired</th>\n",
       "      <th>hired</th>\n",
       "    </tr>\n",
       "  </thead>\n",
       "  <tbody>\n",
       "    <tr>\n",
       "      <th>Jane</th>\n",
       "      <td>0.3</td>\n",
       "      <td>0.016</td>\n",
       "      <td>0</td>\n",
       "    </tr>\n",
       "    <tr>\n",
       "      <th>Kevin</th>\n",
       "      <td>1.4</td>\n",
       "      <td>0.182</td>\n",
       "      <td>0</td>\n",
       "    </tr>\n",
       "    <tr>\n",
       "      <th>Bob</th>\n",
       "      <td>2.7</td>\n",
       "      <td>0.829</td>\n",
       "      <td>1</td>\n",
       "    </tr>\n",
       "    <tr>\n",
       "      <th>Samantha</th>\n",
       "      <td>5.1</td>\n",
       "      <td>0.999</td>\n",
       "      <td>1</td>\n",
       "    </tr>\n",
       "  </tbody>\n",
       "</table>\n",
       "</div>"
      ],
      "text/plain": [
       "          Hours  Prob_Hired  hired\n",
       "Jane        0.3       0.016      0\n",
       "Kevin       1.4       0.182      0\n",
       "Bob         2.7       0.829      1\n",
       "Samantha    5.1       0.999      1"
      ]
     },
     "execution_count": 60,
     "metadata": {},
     "output_type": "execute_result"
    }
   ],
   "source": [
    "hired = np.where(prob_hired > 0.5, 1, 0)\n",
    "new_candidates['hired'] = hired\n",
    "new_candidates"
   ]
  }
 ],
 "metadata": {
  "kernelspec": {
   "display_name": "Python 3.8.5 ('base')",
   "language": "python",
   "name": "python3"
  },
  "language_info": {
   "codemirror_mode": {
    "name": "ipython",
    "version": 3
   },
   "file_extension": ".py",
   "mimetype": "text/x-python",
   "name": "python",
   "nbconvert_exporter": "python",
   "pygments_lexer": "ipython3",
   "version": "3.8.5"
  },
  "orig_nbformat": 4,
  "vscode": {
   "interpreter": {
    "hash": "ad2bdc8ecc057115af97d19610ffacc2b4e99fae6737bb82f5d7fb13d2f2c186"
   }
  }
 },
 "nbformat": 4,
 "nbformat_minor": 2
}
